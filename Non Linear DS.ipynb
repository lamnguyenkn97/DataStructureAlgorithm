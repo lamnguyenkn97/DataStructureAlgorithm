{
 "cells": [
  {
   "cell_type": "markdown",
   "id": "f766a936",
   "metadata": {},
   "source": [
    "## Hash Map ## "
   ]
  },
  {
   "cell_type": "code",
   "execution_count": 9,
   "id": "4504d8fa",
   "metadata": {},
   "outputs": [],
   "source": [
    "class HashMap:\n",
    "    def __init__(self, array_size):\n",
    "        self.array_size = array_size\n",
    "        self.array = [None for i in range(array_size)]\n",
    "    def hash(self,key, collisions = 0):\n",
    "        key_byte = key.encode()\n",
    "        hash_code = sum(key_byte)\n",
    "        return hash_code + collisions\n",
    "    def compressor(self,hash_code):\n",
    "        return hash_code % self.array_size\n",
    "    def assign(self, key, value):\n",
    "        idx = self.compressor(self.hash(key))\n",
    "        current_value = self.array[idx]\n",
    "        if not current_value:\n",
    "            self.array[idx] = (key, value)\n",
    "            return\n",
    "        else:\n",
    "            if current_value[0] == key:\n",
    "                self.array[idx] = (key, value)\n",
    "                return\n",
    "            count_collisions = 1\n",
    "            while current_value[0] != key:\n",
    "                new_hash_code = self.hash(key, count_collisions)\n",
    "                new_idx = self.compressor(new_hash_code)\n",
    "                current_value = self.array[new_idx]\n",
    "                if not current_value:\n",
    "                    self.array[new_idx] = (key, value)\n",
    "                    return \n",
    "                else:\n",
    "                    if current_value[0] == key:\n",
    "                        self.array[new_idx] = (key, value)\n",
    "                    else:\n",
    "                        count_collision += 1              \n",
    "    def retrieve(self,key):\n",
    "        idx = self.compressor(self.hash(key))\n",
    "        current_value = self.array[idx]\n",
    "        if not current_value:\n",
    "            return None\n",
    "        if current_value[0] == key:\n",
    "            return current_value[1]\n",
    "        retrieve_collision = 1\n",
    "        while current_value[0] != key:\n",
    "            new_hash_code = self.hash(key, retrieve_collision)\n",
    "            new_idx = self.compressor(new_hash_code)\n",
    "            current_value = self.array[new_idx]\n",
    "            if not current_value:\n",
    "                return None\n",
    "            else:\n",
    "                if current_value[0] == key:\n",
    "                    return current_value[1]\n",
    "                retrieve_collision += 1\n",
    "        return\n",
    "                \n",
    "    \n",
    "    \n",
    "    "
   ]
  },
  {
   "cell_type": "code",
   "execution_count": 8,
   "id": "8a083776",
   "metadata": {},
   "outputs": [
    {
     "data": {
      "text/plain": [
       "'13/12/1989'"
      ]
     },
     "execution_count": 8,
     "metadata": {},
     "output_type": "execute_result"
    }
   ],
   "source": [
    "d = HashMap(10)\n",
    "\n",
    "d.assign('name', 'Taylor Swift')\n",
    "\n",
    "d.assign('dob', '13/12/1989')\n",
    "d.retrieve('name')\n",
    "d.retrieve('dob')"
   ]
  }
 ],
 "metadata": {
  "kernelspec": {
   "display_name": "Python 3 (ipykernel)",
   "language": "python",
   "name": "python3"
  },
  "language_info": {
   "codemirror_mode": {
    "name": "ipython",
    "version": 3
   },
   "file_extension": ".py",
   "mimetype": "text/x-python",
   "name": "python",
   "nbconvert_exporter": "python",
   "pygments_lexer": "ipython3",
   "version": "3.9.7"
  }
 },
 "nbformat": 4,
 "nbformat_minor": 5
}
