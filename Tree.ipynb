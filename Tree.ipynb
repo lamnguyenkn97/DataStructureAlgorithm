{
 "cells": [
  {
   "cell_type": "markdown",
   "id": "55d26c41",
   "metadata": {},
   "source": [
    "## Tree ##"
   ]
  },
  {
   "cell_type": "code",
   "execution_count": 1,
   "id": "abd3a6d9",
   "metadata": {},
   "outputs": [],
   "source": [
    "class Tree:\n",
    "    def __init__(self, value):\n",
    "        self.value = value\n",
    "        self.children = []\n",
    "    def append_child(self, value):\n",
    "        self.children.append(value)\n",
    "        return\n",
    "    def remove_child(self, child_node):\n",
    "    # removes parent-child relationship\n",
    "        print(\"Removing \" + child_node.value + \" from \" + self.value)\n",
    "        self.children = [child for child in self.children \n",
    "                         if child is not child_node]\n",
    "    def traverse_bfs(self):\n",
    "        nodes_to_visit = [self]\n",
    "        while nodes_to_visit:\n",
    "            node = nodes_to_visit.pop()\n",
    "            print(node.value)\n",
    "            nodes_to_visit += node.children\n",
    "    def traverse_dfs(self, node):\n",
    "        nodes_to_visit = [self]\n",
    "        while nodes_to_visit:\n",
    "            node = nodes_to_visit.pop(0)\n",
    "            print(node.value)\n",
    "            nodes_to_visit += node.children\n",
    "        \n",
    "\n",
    "    \n",
    "    "
   ]
  },
  {
   "cell_type": "code",
   "execution_count": 5,
   "id": "1ef35a0c",
   "metadata": {},
   "outputs": [
    {
     "name": "stdout",
     "output_type": "stream",
     "text": [
      "2\n",
      "5\n",
      "8\n",
      "3\n",
      "4\n"
     ]
    }
   ],
   "source": [
    "root = Tree(2)\n",
    "\n",
    "child_1 = Tree(3)\n",
    "\n",
    "child_2 = Tree(5)\n",
    "\n",
    "child_3 = Tree(4)\n",
    "\n",
    "child_4 = Tree(8)\n",
    "\n",
    "\n",
    "child_1.append_child(child_3)\n",
    "child_2.append_child(child_4)\n",
    "root.append_child(child_1)\n",
    "root.append_child(child_2)\n",
    "root.traverse()"
   ]
  },
  {
   "cell_type": "markdown",
   "id": "ef54d714",
   "metadata": {},
   "source": [
    "## Binary Search Tree ##"
   ]
  },
  {
   "cell_type": "code",
   "execution_count": null,
   "id": "d2442483",
   "metadata": {},
   "outputs": [],
   "source": []
  },
  {
   "cell_type": "code",
   "execution_count": null,
   "id": "1e1d7033",
   "metadata": {},
   "outputs": [],
   "source": [
    "class BST:\n",
    "    def __init__(self, value, depth = 1):\n",
    "        self.value = value\n",
    "        self.left = None\n",
    "        self.right = None\n",
    "        self.depth = depth\n",
    "    def insert(self, value):\n",
    "        pass\n",
    "    def get_node(self, value):\n",
    "        pass\n",
    "    def traverse(self, bfs = True, dfs = False):\n",
    "        pass\n",
    "    \n",
    "    \n",
    "    "
   ]
  }
 ],
 "metadata": {
  "kernelspec": {
   "display_name": "Python 3 (ipykernel)",
   "language": "python",
   "name": "python3"
  },
  "language_info": {
   "codemirror_mode": {
    "name": "ipython",
    "version": 3
   },
   "file_extension": ".py",
   "mimetype": "text/x-python",
   "name": "python",
   "nbconvert_exporter": "python",
   "pygments_lexer": "ipython3",
   "version": "3.9.7"
  }
 },
 "nbformat": 4,
 "nbformat_minor": 5
}
