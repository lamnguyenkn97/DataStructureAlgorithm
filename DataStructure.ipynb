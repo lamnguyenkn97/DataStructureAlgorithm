{
 "cells": [
  {
   "cell_type": "markdown",
   "id": "e738a2b5",
   "metadata": {},
   "source": [
    "## Linked List ##\n"
   ]
  },
  {
   "cell_type": "code",
   "execution_count": 15,
   "id": "ff581282",
   "metadata": {},
   "outputs": [],
   "source": [
    "class Node:\n",
    "    def __init__(self,value, next = None):\n",
    "        self.value = value\n",
    "        self.next = next\n",
    "    def get_value(self):\n",
    "        return self.value\n",
    "    def set_next_node(self, value):\n",
    "        self.next = Node(value)\n",
    "    def __repr__(self):\n",
    "        return f\"Node {self.value}\"\n",
    "    \n",
    "class LinkedList:\n",
    "    def __init__(self, value = None):\n",
    "        self.head = Node(value)\n",
    "    def insert_node(self, value):\n",
    "        head = self.head\n",
    "        if not head:\n",
    "            self.head = Node(value)\n",
    "            return\n",
    "        curr = head\n",
    "        while curr.next:\n",
    "            curr = curr.next\n",
    "        curr.next = Node(value)\n",
    "\n",
    "    def search_node(self,value):\n",
    "        head = self.head\n",
    "        curr = head\n",
    "        while curr:\n",
    "            if curr.value == value:\n",
    "                return curr\n",
    "            curr = curr.next\n",
    "        return -1\n",
    "    def remove_node(self, value):\n",
    "        head = self.head\n",
    "        curr = head \n",
    "        if head.value == value:\n",
    "            self.head = head.next\n",
    "            return\n",
    "        else:\n",
    "            while curr.next:\n",
    "                if curr.next.value == value:\n",
    "                    break\n",
    "                curr = curr.next\n",
    "            curr.next = curr.next.next\n",
    "            return \n",
    "        \n",
    "    def swap(self, value1, value2):\n",
    "        \"\"\"\n",
    "        Keep track of curr1 = value1 and prev_curr1\n",
    "        Keep track of curr2 = value2 and prev_curr2\n",
    "        \n",
    "        Swap curr1, curr2 (Note in case curr1 is head and curr2 is head)\n",
    "        \n",
    "        Swap curr1.next, curr2.next\n",
    "        \"\"\"\n",
    "        curr1 = self.head\n",
    "        curr2 = self.head\n",
    "        prev_curr1 = None\n",
    "        prev_curr2 = None\n",
    "        while curr1:\n",
    "            if curr1.value == value1:\n",
    "                break\n",
    "            prev_curr1 = curr1\n",
    "            curr1 = curr1.next\n",
    "        while curr2:\n",
    "            if curr2.value == value2:\n",
    "                break\n",
    "            prev_curr2 = curr2\n",
    "            curr2 = curr2.next\n",
    "        if prev_curr1 == None:\n",
    "            self.head = curr2\n",
    "        else:\n",
    "            prev_curr1.next = curr2\n",
    "        if prev_curr2 == None:\n",
    "            self.head = curr1\n",
    "        else:\n",
    "            prev_curr2.next = curr1\n",
    "        temp = curr2.next\n",
    "        curr2.next = curr1.next\n",
    "        curr1.next = temp\n",
    "        return\n",
    "    \n",
    "    def __repr__(self):\n",
    "        head = self.head\n",
    "        if not head:\n",
    "            return \"Empty List\"\n",
    "        curr = head\n",
    "        list_string = f\"{curr.value}\"\n",
    "        while curr.next:\n",
    "            curr = curr.next\n",
    "            list_string += f\" -> {curr.value}\"\n",
    "        return list_string\n",
    "    \n",
    "            \n",
    "            \n",
    "            \n",
    "            \n",
    "                \n",
    "                \n",
    "        \n",
    "            \n",
    "            "
   ]
  },
  {
   "cell_type": "code",
   "execution_count": 16,
   "id": "c746bb0a",
   "metadata": {},
   "outputs": [],
   "source": [
    "taylor_albums = LinkedList(\"Speak Now\")\n",
    "\n",
    "taylor_albums.insert_node(\"Red\")\n",
    "taylor_albums.insert_node(\"1989\")\n",
    "taylor_albums.insert_node(\"Reputation\")\n",
    "taylor_albums.insert_node(\"Lover\")\n",
    "taylor_albums.insert_node(\"Folklore\")\n",
    "taylor_albums.insert_node(\"Evermore\")\n",
    "\n",
    "taylor_albums.swap('Speak Now','Lover')"
   ]
  },
  {
   "cell_type": "code",
   "execution_count": 17,
   "id": "2df81718",
   "metadata": {},
   "outputs": [
    {
     "data": {
      "text/plain": [
       "Lover -> Red -> 1989 -> Reputation -> Speak Now -> Folklore -> Evermore"
      ]
     },
     "execution_count": 17,
     "metadata": {},
     "output_type": "execute_result"
    }
   ],
   "source": [
    "taylor_albums"
   ]
  },
  {
   "cell_type": "markdown",
   "id": "9d55c85f",
   "metadata": {},
   "source": [
    "## Doubly Linked List ##\n"
   ]
  },
  {
   "cell_type": "code",
   "execution_count": 82,
   "id": "648d4efb",
   "metadata": {},
   "outputs": [],
   "source": [
    "class Node2:\n",
    "    def __init__(self, value, next = None, prev = None):\n",
    "        self.value = value\n",
    "        self.next = next\n",
    "        self.prev = prev\n",
    "    def get_value(self):\n",
    "        return self.value\n",
    "\n",
    "class DoublyLinkedList:\n",
    "    def __init__(self, head = None, tail = None):\n",
    "        self.head = head\n",
    "        self.tail = tail\n",
    "    def add_to_head(self, value):\n",
    "        head = self.head\n",
    "        new_node = Node2(value)\n",
    "        if not head:\n",
    "            self.head = new_node\n",
    "            self.tail = new_node\n",
    "            return\n",
    "        head.prev = Node2(value)\n",
    "        self.head = Node2(value)\n",
    "        self.head.next = head\n",
    "    def add_to_tail(self, value):\n",
    "        tail = self.tail\n",
    "        new_node = Node2(value)\n",
    "        if not tail:\n",
    "            self.head = new_node\n",
    "            self.tail = new_node\n",
    "            return\n",
    "        tail.next = new_node\n",
    "        self.tail = new_node\n",
    "        self.tail.prev = tail\n",
    "    def remove_head(self):\n",
    "        pass\n",
    "    def remove_tail(self):\n",
    "        pass\n",
    "    def remove_node(self,value):\n",
    "        pass\n",
    "    def __repr__(self):\n",
    "        curr = self.head\n",
    "        if not curr:\n",
    "            return \"Empty list\"\n",
    "        list_str = f\"{curr.value}\"\n",
    "        while curr.next:\n",
    "            curr = curr.next\n",
    "            list_str += f\" <-> {curr.value}\"\n",
    "        return list_str\n",
    "        \n",
    "    "
   ]
  },
  {
   "cell_type": "code",
   "execution_count": 87,
   "id": "144a6f2a",
   "metadata": {},
   "outputs": [],
   "source": [
    "marvel = DoublyLinkedList()\n",
    "\n",
    "marvel.add_to_tail(\"Avenger 1\")\n",
    "marvel.add_to_tail(\"Avenger 2\")\n",
    "marvel.add_to_tail(\"Avenger 3\")\n",
    "marvel.add_to_head(\"Iron Man\")\n"
   ]
  },
  {
   "cell_type": "code",
   "execution_count": 88,
   "id": "ca621ec6",
   "metadata": {},
   "outputs": [
    {
     "data": {
      "text/plain": [
       "Iron Man <-> Avenger 1 <-> Avenger 2 <-> Avenger 3"
      ]
     },
     "execution_count": 88,
     "metadata": {},
     "output_type": "execute_result"
    }
   ],
   "source": [
    "marvel"
   ]
  }
 ],
 "metadata": {
  "kernelspec": {
   "display_name": "Python 3 (ipykernel)",
   "language": "python",
   "name": "python3"
  },
  "language_info": {
   "codemirror_mode": {
    "name": "ipython",
    "version": 3
   },
   "file_extension": ".py",
   "mimetype": "text/x-python",
   "name": "python",
   "nbconvert_exporter": "python",
   "pygments_lexer": "ipython3",
   "version": "3.9.7"
  }
 },
 "nbformat": 4,
 "nbformat_minor": 5
}
