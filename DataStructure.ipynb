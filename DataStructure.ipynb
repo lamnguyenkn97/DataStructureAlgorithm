{
 "cells": [
  {
   "cell_type": "markdown",
   "id": "e738a2b5",
   "metadata": {},
   "source": [
    "## Linked List ##\n"
   ]
  },
  {
   "cell_type": "code",
   "execution_count": 29,
   "id": "ff581282",
   "metadata": {},
   "outputs": [],
   "source": [
    "class Node:\n",
    "    def __init__(self,value, next = None):\n",
    "        self.value = value\n",
    "        self.next = next\n",
    "    def get_value(self):\n",
    "        return self.value\n",
    "    def set_next_node(self, value):\n",
    "        self.next = Node(value)\n",
    "    def __repr__(self):\n",
    "        return f\"Node {self.value}\"\n",
    "    \n",
    "class LinkedList:\n",
    "    def __init__(self, value = None):\n",
    "        self.head = Node(value)\n",
    "    def insert_node(self, value):\n",
    "        head = self.head\n",
    "        if not head:\n",
    "            self.head = Node(value)\n",
    "            return\n",
    "        curr = head\n",
    "        while curr.next:\n",
    "            curr = curr.next\n",
    "        curr.next = Node(value)\n",
    "\n",
    "    def search_node(self,value):\n",
    "        head = self.head\n",
    "        curr = head\n",
    "        while curr:\n",
    "            if curr.value == value:\n",
    "                return curr\n",
    "            curr = curr.next\n",
    "        return -1\n",
    "    def remove_node(self, value):\n",
    "        head = self.head\n",
    "        curr = head \n",
    "        if head.value == value:\n",
    "            self.head = head.next\n",
    "            return\n",
    "        else:\n",
    "            while curr.next:\n",
    "                if curr.next.value == value:\n",
    "                    break\n",
    "                curr = curr.next\n",
    "            curr.next = curr.next.next\n",
    "            return \n",
    "        \n",
    "    def swap(self, value1, value2):\n",
    "\n",
    "        return\n",
    "            \n",
    "            \n",
    "    def __repr__(self):\n",
    "        head = self.head\n",
    "        if not head:\n",
    "            return \"Empty List\"\n",
    "        curr = head\n",
    "        list_string = f\"{curr.value}\"\n",
    "        while curr.next:\n",
    "            curr = curr.next\n",
    "            list_string += f\" -> {curr.value}\"\n",
    "        return list_string\n",
    "    \n",
    "            \n",
    "            \n",
    "            \n",
    "            \n",
    "                \n",
    "                \n",
    "        \n",
    "            \n",
    "            "
   ]
  },
  {
   "cell_type": "code",
   "execution_count": 30,
   "id": "c746bb0a",
   "metadata": {},
   "outputs": [],
   "source": [
    "taylor_albums = LinkedList(\"Speak Now\")\n",
    "\n",
    "taylor_albums.insert_node(\"Red\")\n",
    "taylor_albums.insert_node(\"1989\")\n",
    "taylor_albums.insert_node(\"Reputation\")\n",
    "taylor_albums.insert_node(\"Lover\")\n",
    "taylor_albums.insert_node(\"Folklore\")\n",
    "taylor_albums.insert_node(\"Evermore\")\n",
    "\n",
    "taylor_albums.swap('1989','Lover')"
   ]
  },
  {
   "cell_type": "code",
   "execution_count": null,
   "id": "2df81718",
   "metadata": {},
   "outputs": [],
   "source": [
    "taylor_albums"
   ]
  },
  {
   "cell_type": "markdown",
   "id": "9d55c85f",
   "metadata": {},
   "source": [
    "##Doubly Linked List ##"
   ]
  }
 ],
 "metadata": {
  "kernelspec": {
   "display_name": "Python 3 (ipykernel)",
   "language": "python",
   "name": "python3"
  },
  "language_info": {
   "codemirror_mode": {
    "name": "ipython",
    "version": 3
   },
   "file_extension": ".py",
   "mimetype": "text/x-python",
   "name": "python",
   "nbconvert_exporter": "python",
   "pygments_lexer": "ipython3",
   "version": "3.9.7"
  }
 },
 "nbformat": 4,
 "nbformat_minor": 5
}
